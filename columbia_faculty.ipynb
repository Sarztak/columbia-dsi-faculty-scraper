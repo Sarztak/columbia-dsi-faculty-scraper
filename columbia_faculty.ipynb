{
 "cells": [
  {
   "cell_type": "code",
   "execution_count": 1,
   "metadata": {},
   "outputs": [],
   "source": [
    "# new_selector.xpath(\"//a[@class='inline-block group']/@href\").getall() //get all the links on a page\n",
    "# new_selector.xpath(\"//h1[@class='font-bold type-preset-2']/text()\").get() //name of the faculty \n",
    "# new_selector.xpath(\"//dl[@class='mt-8']//text()\").getall() // department of the faculty\n",
    "# new_selector.xpath(\"//div[@class='border-t border-slate-100 text-blue-400']//a/@href\").getall() //link to personal page\n",
    "# new_selector.xpath(\"//div[@class='gutenberg-editor']/p/text()\").getall() // info of the faculty\n",
    "# new_selector.xpath(\"//div[@class='pagination text-center']/a/@href\").get() // next page"
   ]
  },
  {
   "cell_type": "code",
   "execution_count": 8,
   "metadata": {},
   "outputs": [],
   "source": [
    "from selenium import webdriver\n",
    "from selenium.webdriver.chrome.service import Service\n",
    "from scrapy import Selector\n",
    "driver_path = r'.\\chromedriver.exe'\n",
    "brave_path = r'C:\\Program Files\\BraveSoftware\\Brave-Browser\\Application\\brave.exe'\n",
    "\n",
    "service = Service(driver_path)\n",
    "option = webdriver.ChromeOptions()\n",
    "option.binary_location = brave_path\n",
    "browser = webdriver.Chrome(service=service, options=option)\n",
    "browser.get(\"https://datascience.columbia.edu/people-type/faculty/\")\n",
    "new_selector = Selector(text=browser.page_source)"
   ]
  },
  {
   "cell_type": "code",
   "execution_count": null,
   "metadata": {},
   "outputs": [],
   "source": [
    "with open('DSI Faculty.txt', \"w\", encoding=\"utf-8\") as w:\n",
    "    while next_page:=new_selector.xpath(\"//div[@class='pagination text-center']/a[@class='next page-numbers']/@href\").get():\n",
    "        for faculty in new_selector.xpath(\"//a[@class='inline-block group']/@href\").getall():\n",
    "            browser.get(faculty)\n",
    "            info_selector = Selector(text=browser.page_source)\n",
    "            name = info_selector.xpath(\"//h1[@class='font-bold type-preset-2']/text()\").get() # name of the faculty \n",
    "            dept = info_selector.xpath(\"//dl[@class='mt-8']//text()\").getall() # department of the faculty\n",
    "            links = info_selector.xpath(\"//div[@class='border-t border-slate-100 text-blue-400']//a/@href\").getall() # link to personal page\n",
    "            info = info_selector.xpath(\"//div[@class='gutenberg-editor']/p/text()\").getall() # info of the faculty\n",
    "            w.write(f'{name}\\n')\n",
    "            for line in dept:\n",
    "                w.write(f\"{line.strip()}\\n\")\n",
    "            for link in links:\n",
    "                w.write(f'\\n{link}')\n",
    "            w.write('\\n\\n')\n",
    "            for i in info:\n",
    "                w.write(f\"{i}\")\n",
    "            w.write('\\n\\n\\n==============================================================================================================================================\\n\\n\\n')\n",
    "        browser.get(next_page)\n",
    "        print(next_page)\n",
    "        new_selector = Selector(text=browser.page_source)"
   ]
  }
 ],
 "metadata": {
  "kernelspec": {
   "display_name": "Python 3",
   "language": "python",
   "name": "python3"
  },
  "language_info": {
   "codemirror_mode": {
    "name": "ipython",
    "version": 3
   },
   "file_extension": ".py",
   "mimetype": "text/x-python",
   "name": "python",
   "nbconvert_exporter": "python",
   "pygments_lexer": "ipython3",
   "version": "3.10.7"
  }
 },
 "nbformat": 4,
 "nbformat_minor": 2
}
